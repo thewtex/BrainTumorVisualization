{
 "cells": [
  {
   "cell_type": "code",
   "execution_count": 1,
   "metadata": {},
   "outputs": [],
   "source": [
    "import itk\n",
    "import nibabel as nib\n",
    "import numpy as np\n",
    "\n",
    "from itkwidgets import view"
   ]
  },
  {
   "cell_type": "code",
   "execution_count": 2,
   "metadata": {},
   "outputs": [],
   "source": [
    "# Dataset number 10 from:\n",
    "# http://nist.mni.mcgill.ca/?page_id=672\n",
    "# Rivaz, H., Chen, S, Collins, DL., Automatic Deformable MR-Ultrasound Registration for Image-Guided Neurosurgery, IEEE Trans. Medical Imaging, 2015, 34(2): 366–380\n",
    "file_name = 'MR.mnc'\n",
    "image = nib.load('MR.mnc')"
   ]
  },
  {
   "cell_type": "code",
   "execution_count": 3,
   "metadata": {},
   "outputs": [],
   "source": [
    "image = itk.GetImageFromArray(image.get_data().astype(np.float32))"
   ]
  },
  {
   "cell_type": "code",
   "execution_count": null,
   "metadata": {},
   "outputs": [],
   "source": [
    "view(image)"
   ]
  },
  {
   "cell_type": "code",
   "execution_count": 4,
   "metadata": {},
   "outputs": [],
   "source": [
    "hessian_filter = itk.HessianRecursiveGaussianImageFilter.New(image)"
   ]
  },
  {
   "cell_type": "code",
   "execution_count": 5,
   "metadata": {},
   "outputs": [],
   "source": [
    "hessian_filter.SetSigma(1.2)\n",
    "vesselness_filter = itk.Hessian3DToVesselnessMeasureImageFilter[itk.ctype('float')].New()\n",
    "vesselness_filter.SetInput(hessian_filter.GetOutput())\n",
    "vesselness_filter.Update()\n",
    "#view(vesselness_filter)"
   ]
  },
  {
   "cell_type": "code",
   "execution_count": 6,
   "metadata": {},
   "outputs": [],
   "source": [
    "objectness = itk.HessianToObjectnessMeasureImageFilter[type(hessian_filter.GetOutput()), type(image)].New()\n",
    "objectness.SetBrightObject(True)\n",
    "objectness.SetScaleObjectnessMeasure(True)\n",
    "objectness.SetAlpha(0.5)\n",
    "objectness.SetBeta(1.0)\n",
    "objectness.SetGamma(5.0)"
   ]
  },
  {
   "cell_type": "code",
   "execution_count": 7,
   "metadata": {},
   "outputs": [],
   "source": [
    "multi_scale_vesselness = itk.MultiScaleHessianBasedMeasureImageFilter.New(image)\n",
    "multi_scale_vesselness.SetHessianToMeasureFilter(objectness)\n",
    "multi_scale_vesselness.SetSigmaStepMethodToLogarithmic()\n",
    "multi_scale_vesselness.SetSigmaMinimum(0.5)\n",
    "multi_scale_vesselness.SetSigmaMaximum(1.5)\n",
    "multi_scale_vesselness.SetNumberOfSigmaSteps(6)"
   ]
  },
  {
   "cell_type": "code",
   "execution_count": 8,
   "metadata": {},
   "outputs": [],
   "source": [
    "thresholder = itk.ThresholdImageFilter.New(multi_scale_vesselness)\n",
    "thresholder.ThresholdBelow(10.0)\n",
    "thresholder.Update()\n",
    "#view(thresholder)"
   ]
  },
  {
   "cell_type": "code",
   "execution_count": 11,
   "metadata": {},
   "outputs": [],
   "source": [
    "vessel_scale = itk.MultiplyImageFilter.New(thresholder)\n",
    "vessel_scale.SetConstant(2.0)\n",
    "\n",
    "vessel_enhanced = itk.AddImageFilter.New(image)\n",
    "vessel_enhanced.SetInput2(vessel_scale.GetOutput())\n",
    "vessel_enhanced.Update()\n",
    "#view(vessel_enhanced)"
   ]
  },
  {
   "cell_type": "code",
   "execution_count": 12,
   "metadata": {},
   "outputs": [],
   "source": [
    "smoothing = itk.GradientAnisotropicDiffusionImageFilter.New(vessel_enhanced)\n",
    "smoothing.SetNumberOfIterations(10)\n",
    "\n",
    "region_growing = itk.ConnectedThresholdImageFilter.New(smoothing)\n",
    "region_growing.SetLower(80)\n",
    "region_growing.SetUpper(110)\n",
    "region_growing.SetReplaceValue(1)\n",
    "index = itk.Index[3]()\n",
    "index[0] = 61\n",
    "index[1] = 61\n",
    "index[2] = 61\n",
    "region_growing.SetSeed(index)\n",
    "region_growing.Update()\n",
    "#view(region_growing)"
   ]
  },
  {
   "cell_type": "code",
   "execution_count": 13,
   "metadata": {},
   "outputs": [
    {
     "data": {
      "application/vnd.jupyter.widget-view+json": {
       "model_id": "fead1777c4f24d30bb7b5605d3098d26",
       "version_major": 2,
       "version_minor": 0
      },
      "text/plain": [
       "Viewer(image=<itkImagePython.itkImageF3; proxy of <Swig Object of type 'itkImageF3 *' at 0x7fcf1be11780> >)"
      ]
     },
     "metadata": {},
     "output_type": "display_data"
    }
   ],
   "source": [
    "tumor = itk.MultiplyImageFilter.New(vessel_enhanced)\n",
    "tumor.SetInput2(region_growing.GetOutput())\n",
    "\n",
    "tumor_scale = itk.MultiplyImageFilter.New(tumor)\n",
    "tumor_scale.SetConstant(-3.0)\n",
    "\n",
    "tumor_enhanced = itk.AddImageFilter.New(vessel_enhanced)\n",
    "tumor_enhanced.SetInput2(tumor_scale)\n",
    "\n",
    "tumor_enhanced.Update()\n",
    "view(tumor_enhanced)"
   ]
  },
  {
   "cell_type": "code",
   "execution_count": null,
   "metadata": {},
   "outputs": [],
   "source": []
  }
 ],
 "metadata": {
  "kernelspec": {
   "display_name": "Python 3",
   "language": "python",
   "name": "python3"
  },
  "language_info": {
   "codemirror_mode": {
    "name": "ipython",
    "version": 3
   },
   "file_extension": ".py",
   "mimetype": "text/x-python",
   "name": "python",
   "nbconvert_exporter": "python",
   "pygments_lexer": "ipython3",
   "version": "3.6.5"
  }
 },
 "nbformat": 4,
 "nbformat_minor": 2
}
